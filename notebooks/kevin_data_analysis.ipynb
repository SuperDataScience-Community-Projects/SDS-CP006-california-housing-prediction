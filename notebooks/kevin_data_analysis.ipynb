{
 "cells": [
  {
   "cell_type": "markdown",
   "id": "057d9a70",
   "metadata": {},
   "source": [
    "import pandas as pd\n",
    "import numpy as np"
   ]
  }
 ],
 "metadata": {
  "language_info": {
   "name": "python"
  }
 },
 "nbformat": 4,
 "nbformat_minor": 5
}
